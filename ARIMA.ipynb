{
  "cells": [
    {
      "cell_type": "markdown",
      "metadata": {
        "id": "view-in-github",
        "colab_type": "text"
      },
      "source": [
        "<a href=\"https://colab.research.google.com/github/damiancyrana/colab-notebooks/blob/main/ARIMA.ipynb\" target=\"_parent\"><img src=\"https://colab.research.google.com/assets/colab-badge.svg\" alt=\"Open In Colab\"/></a>"
      ]
    },
    {
      "cell_type": "code",
      "execution_count": null,
      "metadata": {
        "colab": {
          "base_uri": "https://localhost:8080/"
        },
        "id": "rD7PLo6_4Z02",
        "outputId": "b0d15def-8cbb-4eb1-8faf-36f1270e20ac"
      },
      "outputs": [
        {
          "output_type": "stream",
          "name": "stdout",
          "text": [
            "Requirement already satisfied: pandas in /usr/local/lib/python3.10/dist-packages (1.5.3)\n",
            "Requirement already satisfied: statsmodels in /usr/local/lib/python3.10/dist-packages (0.14.0)\n",
            "Requirement already satisfied: matplotlib in /usr/local/lib/python3.10/dist-packages (3.7.1)\n",
            "Collecting pmdarima\n",
            "  Downloading pmdarima-2.0.4-cp310-cp310-manylinux_2_17_x86_64.manylinux2014_x86_64.manylinux_2_28_x86_64.whl (2.1 MB)\n",
            "\u001b[2K     \u001b[90m━━━━━━━━━━━━━━━━━━━━━━━━━━━━━━━━━━━━━━━━\u001b[0m \u001b[32m2.1/2.1 MB\u001b[0m \u001b[31m20.8 MB/s\u001b[0m eta \u001b[36m0:00:00\u001b[0m\n",
            "\u001b[?25hRequirement already satisfied: python-dateutil>=2.8.1 in /usr/local/lib/python3.10/dist-packages (from pandas) (2.8.2)\n",
            "Requirement already satisfied: pytz>=2020.1 in /usr/local/lib/python3.10/dist-packages (from pandas) (2023.3.post1)\n",
            "Requirement already satisfied: numpy>=1.21.0 in /usr/local/lib/python3.10/dist-packages (from pandas) (1.23.5)\n",
            "Requirement already satisfied: scipy!=1.9.2,>=1.4 in /usr/local/lib/python3.10/dist-packages (from statsmodels) (1.11.4)\n",
            "Requirement already satisfied: patsy>=0.5.2 in /usr/local/lib/python3.10/dist-packages (from statsmodels) (0.5.3)\n",
            "Requirement already satisfied: packaging>=21.3 in /usr/local/lib/python3.10/dist-packages (from statsmodels) (23.2)\n",
            "Requirement already satisfied: contourpy>=1.0.1 in /usr/local/lib/python3.10/dist-packages (from matplotlib) (1.2.0)\n",
            "Requirement already satisfied: cycler>=0.10 in /usr/local/lib/python3.10/dist-packages (from matplotlib) (0.12.1)\n",
            "Requirement already satisfied: fonttools>=4.22.0 in /usr/local/lib/python3.10/dist-packages (from matplotlib) (4.45.1)\n",
            "Requirement already satisfied: kiwisolver>=1.0.1 in /usr/local/lib/python3.10/dist-packages (from matplotlib) (1.4.5)\n",
            "Requirement already satisfied: pillow>=6.2.0 in /usr/local/lib/python3.10/dist-packages (from matplotlib) (9.4.0)\n",
            "Requirement already satisfied: pyparsing>=2.3.1 in /usr/local/lib/python3.10/dist-packages (from matplotlib) (3.1.1)\n",
            "Requirement already satisfied: joblib>=0.11 in /usr/local/lib/python3.10/dist-packages (from pmdarima) (1.3.2)\n",
            "Requirement already satisfied: Cython!=0.29.18,!=0.29.31,>=0.29 in /usr/local/lib/python3.10/dist-packages (from pmdarima) (3.0.6)\n",
            "Requirement already satisfied: scikit-learn>=0.22 in /usr/local/lib/python3.10/dist-packages (from pmdarima) (1.2.2)\n",
            "Requirement already satisfied: urllib3 in /usr/local/lib/python3.10/dist-packages (from pmdarima) (2.0.7)\n",
            "Requirement already satisfied: setuptools!=50.0.0,>=38.6.0 in /usr/local/lib/python3.10/dist-packages (from pmdarima) (67.7.2)\n",
            "Requirement already satisfied: six in /usr/local/lib/python3.10/dist-packages (from patsy>=0.5.2->statsmodels) (1.16.0)\n",
            "Requirement already satisfied: threadpoolctl>=2.0.0 in /usr/local/lib/python3.10/dist-packages (from scikit-learn>=0.22->pmdarima) (3.2.0)\n",
            "Installing collected packages: pmdarima\n",
            "Successfully installed pmdarima-2.0.4\n"
          ]
        }
      ],
      "source": [
        "!pip install pandas statsmodels matplotlib pmdarima\n",
        "import pandas as pd\n",
        "import matplotlib.pyplot as plt\n",
        "import plotly.graph_objects as go\n",
        "import pmdarima as pm\n",
        "import pickle\n",
        "import os\n",
        "from pmdarima import auto_arima\n",
        "from statsmodels.tsa.arima.model import ARIMA\n",
        "from datetime import datetime\n",
        "import pytz\n",
        "import re\n",
        "from statsmodels.tsa.statespace.sarimax import SARIMAX\n",
        "\n"
      ]
    },
    {
      "cell_type": "code",
      "execution_count": null,
      "metadata": {
        "id": "E0lWl3BFCTK0"
      },
      "outputs": [],
      "source": [
        "# Ładowanie danych\n",
        "url = '/content/drive/MyDrive/Colab Notebooks/US100_M5.csv'\n",
        "data = pd.read_csv(url)\n",
        "\n",
        "# Konwersja kolumny 'ctmString' na typ datetime i ustawienie jako indeks\n",
        "data['ctmString'] = pd.to_datetime(data['ctmString'])\n",
        "data.set_index('ctmString', inplace=True)\n",
        "\n",
        "# Dodanie kolumny z dniem tygodnia\n",
        "data['day_of_week'] = data.index.dayofweek\n",
        "\n",
        "# Usunięcie weekendów (sobota = 5, niedziela = 6) i niepotrzebnych kolumn\n",
        "data = data[~data['day_of_week'].isin([5, 6])]\n",
        "data.drop(['Unnamed: 0', 'day_of_week'], axis=1, inplace=True)\n",
        "\n",
        "# Sortowanie danych\n",
        "data.sort_values('ctmString', inplace=True)\n",
        "data.dropna(subset=['open', 'close', 'high', 'low', 'vol'], inplace=True)"
      ]
    },
    {
      "cell_type": "markdown",
      "metadata": {
        "id": "gGxfjRA01Lka"
      },
      "source": [
        "**Funkcja do prognozowania z automatycznym doborem parametrów ARIMA**"
      ]
    },
    {
      "cell_type": "code",
      "execution_count": null,
      "metadata": {
        "id": "6i2NrHcOe4pR",
        "colab": {
          "base_uri": "https://localhost:8080/"
        },
        "outputId": "233cf83c-b735-40fe-f393-1113967c9702"
      },
      "outputs": [
        {
          "output_type": "stream",
          "name": "stdout",
          "text": [
            "Performing stepwise search to minimize aic\n",
            " ARIMA(2,1,2)(0,0,0)[0] intercept   : AIC=40868.888, Time=6.75 sec\n",
            " ARIMA(0,1,0)(0,0,0)[0] intercept   : AIC=40868.066, Time=0.24 sec\n",
            " ARIMA(1,1,0)(0,0,0)[0] intercept   : AIC=40864.694, Time=0.55 sec\n",
            " ARIMA(0,1,1)(0,0,0)[0] intercept   : AIC=40864.863, Time=1.99 sec\n",
            " ARIMA(0,1,0)(0,0,0)[0]             : AIC=40870.630, Time=0.21 sec\n",
            " ARIMA(2,1,0)(0,0,0)[0] intercept   : AIC=40865.172, Time=1.23 sec\n",
            " ARIMA(1,1,1)(0,0,0)[0] intercept   : AIC=40865.736, Time=4.59 sec\n",
            " ARIMA(2,1,1)(0,0,0)[0] intercept   : AIC=40867.148, Time=3.69 sec\n",
            " ARIMA(1,1,0)(0,0,0)[0]             : AIC=40867.539, Time=0.22 sec\n",
            "\n",
            "Best model:  ARIMA(1,1,0)(0,0,0)[0] intercept\n",
            "Total fit time: 19.498 seconds\n"
          ]
        },
        {
          "output_type": "stream",
          "name": "stderr",
          "text": [
            "/usr/local/lib/python3.10/dist-packages/statsmodels/tsa/base/tsa_model.py:473: ValueWarning:\n",
            "\n",
            "A date index has been provided, but it has no associated frequency information and so will be ignored when e.g. forecasting.\n",
            "\n",
            "/usr/local/lib/python3.10/dist-packages/statsmodels/tsa/base/tsa_model.py:473: ValueWarning:\n",
            "\n",
            "A date index has been provided, but it has no associated frequency information and so will be ignored when e.g. forecasting.\n",
            "\n",
            "/usr/local/lib/python3.10/dist-packages/statsmodels/tsa/base/tsa_model.py:473: ValueWarning:\n",
            "\n",
            "A date index has been provided, but it has no associated frequency information and so will be ignored when e.g. forecasting.\n",
            "\n",
            "/usr/local/lib/python3.10/dist-packages/statsmodels/tsa/base/tsa_model.py:836: ValueWarning:\n",
            "\n",
            "No supported index is available. Prediction results will be given with an integer index beginning at `start`.\n",
            "\n",
            "/usr/local/lib/python3.10/dist-packages/statsmodels/tsa/base/tsa_model.py:836: FutureWarning:\n",
            "\n",
            "No supported index is available. In the next version, calling this method in a model without a supported index will result in an exception.\n",
            "\n"
          ]
        },
        {
          "output_type": "stream",
          "name": "stdout",
          "text": [
            "Performing stepwise search to minimize aic\n",
            " ARIMA(2,1,2)(0,0,0)[0] intercept   : AIC=40886.093, Time=13.31 sec\n",
            " ARIMA(0,1,0)(0,0,0)[0] intercept   : AIC=40886.186, Time=0.15 sec\n",
            " ARIMA(1,1,0)(0,0,0)[0] intercept   : AIC=40881.984, Time=0.29 sec\n",
            " ARIMA(0,1,1)(0,0,0)[0] intercept   : AIC=40882.169, Time=0.95 sec\n",
            " ARIMA(0,1,0)(0,0,0)[0]             : AIC=40888.693, Time=0.14 sec\n",
            " ARIMA(2,1,0)(0,0,0)[0] intercept   : AIC=40882.636, Time=0.55 sec\n",
            " ARIMA(1,1,1)(0,0,0)[0] intercept   : AIC=40883.071, Time=2.97 sec\n",
            " ARIMA(2,1,1)(0,0,0)[0] intercept   : AIC=40884.606, Time=12.82 sec\n",
            " ARIMA(1,1,0)(0,0,0)[0]             : AIC=40884.789, Time=0.23 sec\n",
            "\n",
            "Best model:  ARIMA(1,1,0)(0,0,0)[0] intercept\n",
            "Total fit time: 31.434 seconds\n"
          ]
        },
        {
          "output_type": "stream",
          "name": "stderr",
          "text": [
            "/usr/local/lib/python3.10/dist-packages/statsmodels/tsa/base/tsa_model.py:473: ValueWarning:\n",
            "\n",
            "A date index has been provided, but it has no associated frequency information and so will be ignored when e.g. forecasting.\n",
            "\n",
            "/usr/local/lib/python3.10/dist-packages/statsmodels/tsa/base/tsa_model.py:473: ValueWarning:\n",
            "\n",
            "A date index has been provided, but it has no associated frequency information and so will be ignored when e.g. forecasting.\n",
            "\n",
            "/usr/local/lib/python3.10/dist-packages/statsmodels/tsa/base/tsa_model.py:473: ValueWarning:\n",
            "\n",
            "A date index has been provided, but it has no associated frequency information and so will be ignored when e.g. forecasting.\n",
            "\n",
            "/usr/local/lib/python3.10/dist-packages/statsmodels/tsa/base/tsa_model.py:836: ValueWarning:\n",
            "\n",
            "No supported index is available. Prediction results will be given with an integer index beginning at `start`.\n",
            "\n",
            "/usr/local/lib/python3.10/dist-packages/statsmodels/tsa/base/tsa_model.py:836: FutureWarning:\n",
            "\n",
            "No supported index is available. In the next version, calling this method in a model without a supported index will result in an exception.\n",
            "\n"
          ]
        },
        {
          "output_type": "stream",
          "name": "stdout",
          "text": [
            "Performing stepwise search to minimize aic\n",
            " ARIMA(2,1,2)(0,0,0)[0] intercept   : AIC=39748.048, Time=8.14 sec\n",
            " ARIMA(0,1,0)(0,0,0)[0] intercept   : AIC=39796.348, Time=0.16 sec\n",
            " ARIMA(1,1,0)(0,0,0)[0] intercept   : AIC=39758.931, Time=0.38 sec\n",
            " ARIMA(0,1,1)(0,0,0)[0] intercept   : AIC=39760.178, Time=1.99 sec\n",
            " ARIMA(0,1,0)(0,0,0)[0]             : AIC=39799.772, Time=0.19 sec\n",
            " ARIMA(1,1,2)(0,0,0)[0] intercept   : AIC=39755.270, Time=14.24 sec\n",
            " ARIMA(2,1,1)(0,0,0)[0] intercept   : AIC=39754.880, Time=8.73 sec\n",
            " ARIMA(3,1,2)(0,0,0)[0] intercept   : AIC=39755.573, Time=9.69 sec\n",
            " ARIMA(2,1,3)(0,0,0)[0] intercept   : AIC=39757.759, Time=14.79 sec\n",
            " ARIMA(1,1,1)(0,0,0)[0] intercept   : AIC=39760.428, Time=1.39 sec\n",
            " ARIMA(1,1,3)(0,0,0)[0] intercept   : AIC=39757.533, Time=7.43 sec\n",
            " ARIMA(3,1,1)(0,0,0)[0] intercept   : AIC=39755.965, Time=7.27 sec\n",
            " ARIMA(3,1,3)(0,0,0)[0] intercept   : AIC=inf, Time=19.69 sec\n",
            " ARIMA(2,1,2)(0,0,0)[0]             : AIC=39751.755, Time=2.52 sec\n",
            "\n",
            "Best model:  ARIMA(2,1,2)(0,0,0)[0] intercept\n",
            "Total fit time: 96.648 seconds\n"
          ]
        },
        {
          "output_type": "stream",
          "name": "stderr",
          "text": [
            "/usr/local/lib/python3.10/dist-packages/statsmodels/tsa/base/tsa_model.py:473: ValueWarning:\n",
            "\n",
            "A date index has been provided, but it has no associated frequency information and so will be ignored when e.g. forecasting.\n",
            "\n",
            "/usr/local/lib/python3.10/dist-packages/statsmodels/tsa/base/tsa_model.py:473: ValueWarning:\n",
            "\n",
            "A date index has been provided, but it has no associated frequency information and so will be ignored when e.g. forecasting.\n",
            "\n",
            "/usr/local/lib/python3.10/dist-packages/statsmodels/tsa/base/tsa_model.py:473: ValueWarning:\n",
            "\n",
            "A date index has been provided, but it has no associated frequency information and so will be ignored when e.g. forecasting.\n",
            "\n",
            "/usr/local/lib/python3.10/dist-packages/statsmodels/tsa/base/tsa_model.py:836: ValueWarning:\n",
            "\n",
            "No supported index is available. Prediction results will be given with an integer index beginning at `start`.\n",
            "\n",
            "/usr/local/lib/python3.10/dist-packages/statsmodels/tsa/base/tsa_model.py:836: FutureWarning:\n",
            "\n",
            "No supported index is available. In the next version, calling this method in a model without a supported index will result in an exception.\n",
            "\n"
          ]
        },
        {
          "output_type": "stream",
          "name": "stdout",
          "text": [
            "Performing stepwise search to minimize aic\n",
            " ARIMA(2,1,2)(0,0,0)[0] intercept   : AIC=40221.534, Time=10.65 sec\n",
            " ARIMA(0,1,0)(0,0,0)[0] intercept   : AIC=40264.029, Time=0.15 sec\n",
            " ARIMA(1,1,0)(0,0,0)[0] intercept   : AIC=40228.656, Time=0.30 sec\n",
            " ARIMA(0,1,1)(0,0,0)[0] intercept   : AIC=40226.347, Time=1.40 sec\n",
            " ARIMA(0,1,0)(0,0,0)[0]             : AIC=40267.078, Time=0.13 sec\n",
            " ARIMA(1,1,2)(0,0,0)[0] intercept   : AIC=40230.289, Time=3.73 sec\n",
            " ARIMA(2,1,1)(0,0,0)[0] intercept   : AIC=40219.603, Time=2.77 sec\n",
            " ARIMA(1,1,1)(0,0,0)[0] intercept   : AIC=40226.177, Time=3.15 sec\n",
            " ARIMA(2,1,0)(0,0,0)[0] intercept   : AIC=40223.716, Time=1.22 sec\n",
            " ARIMA(3,1,1)(0,0,0)[0] intercept   : AIC=40221.552, Time=7.89 sec\n",
            " ARIMA(3,1,0)(0,0,0)[0] intercept   : AIC=40223.226, Time=1.25 sec\n",
            " ARIMA(3,1,2)(0,0,0)[0] intercept   : AIC=40223.568, Time=6.18 sec\n",
            " ARIMA(2,1,1)(0,0,0)[0]             : AIC=40222.841, Time=1.97 sec\n",
            "\n",
            "Best model:  ARIMA(2,1,1)(0,0,0)[0] intercept\n",
            "Total fit time: 40.805 seconds\n"
          ]
        },
        {
          "output_type": "stream",
          "name": "stderr",
          "text": [
            "/usr/local/lib/python3.10/dist-packages/statsmodels/tsa/base/tsa_model.py:473: ValueWarning:\n",
            "\n",
            "A date index has been provided, but it has no associated frequency information and so will be ignored when e.g. forecasting.\n",
            "\n",
            "/usr/local/lib/python3.10/dist-packages/statsmodels/tsa/base/tsa_model.py:473: ValueWarning:\n",
            "\n",
            "A date index has been provided, but it has no associated frequency information and so will be ignored when e.g. forecasting.\n",
            "\n",
            "/usr/local/lib/python3.10/dist-packages/statsmodels/tsa/base/tsa_model.py:473: ValueWarning:\n",
            "\n",
            "A date index has been provided, but it has no associated frequency information and so will be ignored when e.g. forecasting.\n",
            "\n"
          ]
        },
        {
          "output_type": "stream",
          "name": "stdout",
          "text": [
            "Prognozowane wartości dla kolejnej świecy M5 (zaokrąglone):\n",
            "Open: 16018.25\n",
            "Close: 16018.11\n",
            "High: 16020.97\n",
            "Low: 16016.56\n"
          ]
        },
        {
          "output_type": "stream",
          "name": "stderr",
          "text": [
            "/usr/local/lib/python3.10/dist-packages/statsmodels/tsa/base/tsa_model.py:836: ValueWarning:\n",
            "\n",
            "No supported index is available. Prediction results will be given with an integer index beginning at `start`.\n",
            "\n",
            "/usr/local/lib/python3.10/dist-packages/statsmodels/tsa/base/tsa_model.py:836: FutureWarning:\n",
            "\n",
            "No supported index is available. In the next version, calling this method in a model without a supported index will result in an exception.\n",
            "\n"
          ]
        }
      ],
      "source": [
        "def auto_arima_forecast(feature_name):\n",
        "    \"\"\"\n",
        "    Funkcja do prognozowania z automatycznym doborem parametrów ARIMA\n",
        "    \"\"\"\n",
        "    auto_model = auto_arima(data[feature_name], seasonal=False, m=0,\n",
        "                            stepwise=True, suppress_warnings=True,\n",
        "                            error_action='ignore', trace=True,\n",
        "                            max_order=None)\n",
        "\n",
        "    # Użycie dobrych parametrów do stworzenia modelu ARIMA\n",
        "    model = ARIMA(data[feature_name], order=auto_model.order)\n",
        "    model_fit = model.fit()\n",
        "\n",
        "    # Prognozowanie następnej wartości\n",
        "    forecast = model_fit.forecast(steps=1)\n",
        "    return forecast.iloc[0]\n",
        "\n",
        "# Przeprowadzenie prognozowania dla każdej cechy\n",
        "forecast_open = round(auto_arima_forecast('open'), 2)\n",
        "forecast_close = round(auto_arima_forecast('close'), 2)\n",
        "forecast_high = round(auto_arima_forecast('high'), 2)\n",
        "forecast_low = round(auto_arima_forecast('low'), 2)\n",
        "\n",
        "# Wyświetlenie zaokrąglonych prognoz\n",
        "print(\"Prognozowane wartości dla kolejnej świecy M5 (zaokrąglone):\")\n",
        "print(f\"Open: {forecast_open}\")\n",
        "print(f\"Close: {forecast_close}\")\n",
        "print(f\"High: {forecast_high}\")\n",
        "print(f\"Low: {forecast_low}\")\n"
      ]
    },
    {
      "cell_type": "code",
      "source": [
        "def sarimax_forecast(feature_name):\n",
        "    \"\"\"\n",
        "    Funkcja do prognozowania z automatycznym doborem parametrów SARIMAX\n",
        "    \"\"\"\n",
        "    # Auto ARIMA do znalezienia najlepszego zestawu parametrów\n",
        "    auto_model = auto_arima(data[feature_name], exogenous=data[['vol']],\n",
        "                            seasonal=False, m=0,  # m to liczba okresów w sezonie\n",
        "                            stepwise=True, suppress_warnings=True,\n",
        "                            error_action='ignore', trace=True)\n",
        "\n",
        "    # Budowanie modelu SARIMAX z najlepszymi parametrami\n",
        "    model = SARIMAX(data[feature_name], exog=data['vol'],\n",
        "                    order=auto_model.order, seasonal_order=auto_model.seasonal_order)\n",
        "    model_fit = model.fit(disp=False)\n",
        "\n",
        "    # Prognozowanie następnej wartości\n",
        "    forecast = model_fit.forecast(steps=1, exog=data['vol'].iloc[-1])\n",
        "    return forecast.iloc[0]\n",
        "\n",
        "# Przeprowadzenie prognozowania dla każdej cechy\n",
        "forecast_open = round(sarimax_forecast('open'), 2)\n",
        "forecast_close = round(sarimax_forecast('close'), 2)\n",
        "forecast_high = round(sarimax_forecast('high'), 2)\n",
        "forecast_low = round(sarimax_forecast('low'), 2)\n",
        "\n",
        "# Wyświetlenie zaokrąglonych prognoz\n",
        "print(\"Prognozowane wartości dla kolejnej świecy M5 (zaokrąglone):\")\n",
        "print(f\"Open: {forecast_open}\")\n",
        "print(f\"Close: {forecast_close}\")\n",
        "print(f\"High: {forecast_high}\")\n",
        "print(f\"Low: {forecast_low}\")"
      ],
      "metadata": {
        "colab": {
          "base_uri": "https://localhost:8080/"
        },
        "id": "iQ-9wQp4UUfy",
        "outputId": "12bec7f9-d555-4747-98bf-715c6903134b"
      },
      "execution_count": null,
      "outputs": [
        {
          "output_type": "stream",
          "name": "stdout",
          "text": [
            "Performing stepwise search to minimize aic\n",
            " ARIMA(2,1,2)(0,0,0)[0] intercept   : AIC=40868.888, Time=14.93 sec\n",
            " ARIMA(0,1,0)(0,0,0)[0] intercept   : AIC=40868.066, Time=0.14 sec\n",
            " ARIMA(1,1,0)(0,0,0)[0] intercept   : AIC=40864.694, Time=0.29 sec\n",
            " ARIMA(0,1,1)(0,0,0)[0] intercept   : AIC=40864.863, Time=0.94 sec\n",
            " ARIMA(0,1,0)(0,0,0)[0]             : AIC=40870.630, Time=0.12 sec\n",
            " ARIMA(2,1,0)(0,0,0)[0] intercept   : AIC=40865.172, Time=0.61 sec\n",
            " ARIMA(1,1,1)(0,0,0)[0] intercept   : AIC=40865.736, Time=3.12 sec\n",
            " ARIMA(2,1,1)(0,0,0)[0] intercept   : AIC=40867.148, Time=4.61 sec\n",
            " ARIMA(1,1,0)(0,0,0)[0]             : AIC=40867.539, Time=0.25 sec\n",
            "\n",
            "Best model:  ARIMA(1,1,0)(0,0,0)[0] intercept\n",
            "Total fit time: 25.032 seconds\n"
          ]
        },
        {
          "output_type": "stream",
          "name": "stderr",
          "text": [
            "/usr/local/lib/python3.10/dist-packages/statsmodels/tsa/base/tsa_model.py:473: ValueWarning:\n",
            "\n",
            "A date index has been provided, but it has no associated frequency information and so will be ignored when e.g. forecasting.\n",
            "\n",
            "/usr/local/lib/python3.10/dist-packages/statsmodels/tsa/base/tsa_model.py:473: ValueWarning:\n",
            "\n",
            "A date index has been provided, but it has no associated frequency information and so will be ignored when e.g. forecasting.\n",
            "\n",
            "/usr/local/lib/python3.10/dist-packages/statsmodels/base/model.py:607: ConvergenceWarning:\n",
            "\n",
            "Maximum Likelihood optimization failed to converge. Check mle_retvals\n",
            "\n",
            "/usr/local/lib/python3.10/dist-packages/statsmodels/tsa/base/tsa_model.py:836: ValueWarning:\n",
            "\n",
            "No supported index is available. Prediction results will be given with an integer index beginning at `start`.\n",
            "\n",
            "/usr/local/lib/python3.10/dist-packages/statsmodels/tsa/base/tsa_model.py:836: FutureWarning:\n",
            "\n",
            "No supported index is available. In the next version, calling this method in a model without a supported index will result in an exception.\n",
            "\n"
          ]
        },
        {
          "output_type": "stream",
          "name": "stdout",
          "text": [
            "Performing stepwise search to minimize aic\n",
            " ARIMA(2,1,2)(0,0,0)[0] intercept   : AIC=40886.093, Time=7.57 sec\n",
            " ARIMA(0,1,0)(0,0,0)[0] intercept   : AIC=40886.186, Time=0.14 sec\n",
            " ARIMA(1,1,0)(0,0,0)[0] intercept   : AIC=40881.984, Time=0.30 sec\n",
            " ARIMA(0,1,1)(0,0,0)[0] intercept   : AIC=40882.169, Time=1.00 sec\n",
            " ARIMA(0,1,0)(0,0,0)[0]             : AIC=40888.693, Time=0.13 sec\n",
            " ARIMA(2,1,0)(0,0,0)[0] intercept   : AIC=40882.636, Time=0.64 sec\n",
            " ARIMA(1,1,1)(0,0,0)[0] intercept   : AIC=40883.071, Time=2.93 sec\n",
            " ARIMA(2,1,1)(0,0,0)[0] intercept   : AIC=40884.606, Time=10.83 sec\n",
            " ARIMA(1,1,0)(0,0,0)[0]             : AIC=40884.789, Time=0.15 sec\n",
            "\n",
            "Best model:  ARIMA(1,1,0)(0,0,0)[0] intercept\n",
            "Total fit time: 23.707 seconds\n"
          ]
        },
        {
          "output_type": "stream",
          "name": "stderr",
          "text": [
            "/usr/local/lib/python3.10/dist-packages/statsmodels/tsa/base/tsa_model.py:473: ValueWarning:\n",
            "\n",
            "A date index has been provided, but it has no associated frequency information and so will be ignored when e.g. forecasting.\n",
            "\n",
            "/usr/local/lib/python3.10/dist-packages/statsmodels/tsa/base/tsa_model.py:473: ValueWarning:\n",
            "\n",
            "A date index has been provided, but it has no associated frequency information and so will be ignored when e.g. forecasting.\n",
            "\n",
            "/usr/local/lib/python3.10/dist-packages/statsmodels/tsa/base/tsa_model.py:836: ValueWarning:\n",
            "\n",
            "No supported index is available. Prediction results will be given with an integer index beginning at `start`.\n",
            "\n",
            "/usr/local/lib/python3.10/dist-packages/statsmodels/tsa/base/tsa_model.py:836: FutureWarning:\n",
            "\n",
            "No supported index is available. In the next version, calling this method in a model without a supported index will result in an exception.\n",
            "\n"
          ]
        },
        {
          "output_type": "stream",
          "name": "stdout",
          "text": [
            "Performing stepwise search to minimize aic\n",
            " ARIMA(2,1,2)(0,0,0)[0] intercept   : AIC=39748.048, Time=6.08 sec\n",
            " ARIMA(0,1,0)(0,0,0)[0] intercept   : AIC=39796.348, Time=0.16 sec\n",
            " ARIMA(1,1,0)(0,0,0)[0] intercept   : AIC=39758.931, Time=0.30 sec\n",
            " ARIMA(0,1,1)(0,0,0)[0] intercept   : AIC=39760.178, Time=1.73 sec\n",
            " ARIMA(0,1,0)(0,0,0)[0]             : AIC=39799.772, Time=0.20 sec\n",
            " ARIMA(1,1,2)(0,0,0)[0] intercept   : AIC=39755.270, Time=9.22 sec\n",
            " ARIMA(2,1,1)(0,0,0)[0] intercept   : AIC=39754.880, Time=4.70 sec\n",
            " ARIMA(3,1,2)(0,0,0)[0] intercept   : AIC=39755.573, Time=13.12 sec\n",
            " ARIMA(2,1,3)(0,0,0)[0] intercept   : AIC=39757.759, Time=13.62 sec\n",
            " ARIMA(1,1,1)(0,0,0)[0] intercept   : AIC=39760.428, Time=2.78 sec\n",
            " ARIMA(1,1,3)(0,0,0)[0] intercept   : AIC=39757.533, Time=5.35 sec\n",
            " ARIMA(3,1,1)(0,0,0)[0] intercept   : AIC=39755.965, Time=6.02 sec\n",
            " ARIMA(3,1,3)(0,0,0)[0] intercept   : AIC=inf, Time=20.90 sec\n",
            " ARIMA(2,1,2)(0,0,0)[0]             : AIC=39751.755, Time=4.72 sec\n",
            "\n",
            "Best model:  ARIMA(2,1,2)(0,0,0)[0] intercept\n",
            "Total fit time: 88.926 seconds\n"
          ]
        },
        {
          "output_type": "stream",
          "name": "stderr",
          "text": [
            "/usr/local/lib/python3.10/dist-packages/statsmodels/tsa/base/tsa_model.py:473: ValueWarning:\n",
            "\n",
            "A date index has been provided, but it has no associated frequency information and so will be ignored when e.g. forecasting.\n",
            "\n",
            "/usr/local/lib/python3.10/dist-packages/statsmodels/tsa/base/tsa_model.py:473: ValueWarning:\n",
            "\n",
            "A date index has been provided, but it has no associated frequency information and so will be ignored when e.g. forecasting.\n",
            "\n",
            "/usr/local/lib/python3.10/dist-packages/statsmodels/tsa/statespace/sarimax.py:966: UserWarning:\n",
            "\n",
            "Non-stationary starting autoregressive parameters found. Using zeros as starting parameters.\n",
            "\n",
            "/usr/local/lib/python3.10/dist-packages/statsmodels/tsa/statespace/sarimax.py:978: UserWarning:\n",
            "\n",
            "Non-invertible starting MA parameters found. Using zeros as starting parameters.\n",
            "\n",
            "/usr/local/lib/python3.10/dist-packages/statsmodels/tsa/base/tsa_model.py:836: ValueWarning:\n",
            "\n",
            "No supported index is available. Prediction results will be given with an integer index beginning at `start`.\n",
            "\n",
            "/usr/local/lib/python3.10/dist-packages/statsmodels/tsa/base/tsa_model.py:836: FutureWarning:\n",
            "\n",
            "No supported index is available. In the next version, calling this method in a model without a supported index will result in an exception.\n",
            "\n"
          ]
        },
        {
          "output_type": "stream",
          "name": "stdout",
          "text": [
            "Performing stepwise search to minimize aic\n",
            " ARIMA(2,1,2)(0,0,0)[0] intercept   : AIC=40221.534, Time=7.28 sec\n",
            " ARIMA(0,1,0)(0,0,0)[0] intercept   : AIC=40264.029, Time=0.23 sec\n",
            " ARIMA(1,1,0)(0,0,0)[0] intercept   : AIC=40228.656, Time=0.52 sec\n",
            " ARIMA(0,1,1)(0,0,0)[0] intercept   : AIC=40226.347, Time=2.68 sec\n",
            " ARIMA(0,1,0)(0,0,0)[0]             : AIC=40267.078, Time=0.20 sec\n",
            " ARIMA(1,1,2)(0,0,0)[0] intercept   : AIC=40230.289, Time=5.50 sec\n",
            " ARIMA(2,1,1)(0,0,0)[0] intercept   : AIC=40219.603, Time=2.68 sec\n",
            " ARIMA(1,1,1)(0,0,0)[0] intercept   : AIC=40226.177, Time=1.59 sec\n",
            " ARIMA(2,1,0)(0,0,0)[0] intercept   : AIC=40223.716, Time=0.65 sec\n",
            " ARIMA(3,1,1)(0,0,0)[0] intercept   : AIC=40221.552, Time=7.98 sec\n",
            " ARIMA(3,1,0)(0,0,0)[0] intercept   : AIC=40223.226, Time=1.64 sec\n",
            " ARIMA(3,1,2)(0,0,0)[0] intercept   : AIC=40223.568, Time=6.58 sec\n",
            " ARIMA(2,1,1)(0,0,0)[0]             : AIC=40222.841, Time=1.13 sec\n",
            "\n",
            "Best model:  ARIMA(2,1,1)(0,0,0)[0] intercept\n",
            "Total fit time: 38.707 seconds\n"
          ]
        },
        {
          "output_type": "stream",
          "name": "stderr",
          "text": [
            "/usr/local/lib/python3.10/dist-packages/statsmodels/tsa/base/tsa_model.py:473: ValueWarning:\n",
            "\n",
            "A date index has been provided, but it has no associated frequency information and so will be ignored when e.g. forecasting.\n",
            "\n",
            "/usr/local/lib/python3.10/dist-packages/statsmodels/tsa/base/tsa_model.py:473: ValueWarning:\n",
            "\n",
            "A date index has been provided, but it has no associated frequency information and so will be ignored when e.g. forecasting.\n",
            "\n"
          ]
        },
        {
          "output_type": "stream",
          "name": "stdout",
          "text": [
            "Prognozowane wartości dla kolejnej świecy M5 (zaokrąglone):\n",
            "Open: 16018.22\n",
            "Close: 16018.11\n",
            "High: 16021.59\n",
            "Low: 16016.96\n"
          ]
        },
        {
          "output_type": "stream",
          "name": "stderr",
          "text": [
            "/usr/local/lib/python3.10/dist-packages/statsmodels/tsa/base/tsa_model.py:836: ValueWarning:\n",
            "\n",
            "No supported index is available. Prediction results will be given with an integer index beginning at `start`.\n",
            "\n",
            "/usr/local/lib/python3.10/dist-packages/statsmodels/tsa/base/tsa_model.py:836: FutureWarning:\n",
            "\n",
            "No supported index is available. In the next version, calling this method in a model without a supported index will result in an exception.\n",
            "\n"
          ]
        }
      ]
    },
    {
      "cell_type": "markdown",
      "source": [
        "SARIMAX  Skuteczność modelu: 99.99655093973188 %\n",
        "\n",
        "Open: 16018.22\n",
        "Close: 16018.11\n",
        "High: 16020.31\n",
        "Low: 16017.02"
      ],
      "metadata": {
        "id": "Fv1lvK4mgp1J"
      }
    },
    {
      "cell_type": "code",
      "execution_count": null,
      "metadata": {
        "colab": {
          "base_uri": "https://localhost:8080/"
        },
        "id": "vCueJFZ6Prc7",
        "outputId": "5f355c5f-05aa-4def-cb67-5d004a9dc91b"
      },
      "outputs": [
        {
          "output_type": "stream",
          "name": "stdout",
          "text": [
            "Skuteczność modelu: 99.99736239138554 %\n"
          ]
        }
      ],
      "source": [
        "# Prognozowane wartości\n",
        "predicted = {\n",
        "    \"Open\": forecast_open,\n",
        "    \"Close\": forecast_close,\n",
        "    \"High\": forecast_high,\n",
        "    \"Low\": forecast_low\n",
        "}\n",
        "\n",
        "# Rzeczywiste wartości (podane ręcznie)\n",
        "actual = {\n",
        "    \"Open\": 16017.37,\n",
        "    \"Close\": 16017.87,\n",
        "    \"High\": 16021.18,\n",
        "    \"Low\": 16016.77\n",
        "}\n",
        "\n",
        "# Obliczenie błędu procentowego dla każdej cechy\n",
        "percentage_errors = {}\n",
        "for key in predicted.keys():\n",
        "    error = abs(predicted[key] - actual[key]) / actual[key]\n",
        "    percentage_errors[key] = error * 100\n",
        "\n",
        "# Średni błąd procentowy\n",
        "average_error = sum(percentage_errors.values()) / len(percentage_errors)\n",
        "model_accuracy = 100 - average_error\n",
        "print(f\"Skuteczność modelu: {model_accuracy} %\")\n"
      ]
    },
    {
      "cell_type": "code",
      "execution_count": null,
      "metadata": {
        "id": "OYvBj6WsTDLl",
        "colab": {
          "base_uri": "https://localhost:8080/",
          "height": 542
        },
        "outputId": "e0fb737a-91a8-45e2-85ba-1d3a7672f848"
      },
      "outputs": [
        {
          "output_type": "display_data",
          "data": {
            "text/html": [
              "<html>\n",
              "<head><meta charset=\"utf-8\" /></head>\n",
              "<body>\n",
              "    <div>            <script src=\"https://cdnjs.cloudflare.com/ajax/libs/mathjax/2.7.5/MathJax.js?config=TeX-AMS-MML_SVG\"></script><script type=\"text/javascript\">if (window.MathJax && window.MathJax.Hub && window.MathJax.Hub.Config) {window.MathJax.Hub.Config({SVG: {font: \"STIX-Web\"}});}</script>                <script type=\"text/javascript\">window.PlotlyConfig = {MathJaxConfig: 'local'};</script>\n",
              "        <script charset=\"utf-8\" src=\"https://cdn.plot.ly/plotly-2.24.1.min.js\"></script>                <div id=\"87083cb3-ffbe-4e66-83e9-4caf2e9b6cff\" class=\"plotly-graph-div\" style=\"height:525px; width:100%;\"></div>            <script type=\"text/javascript\">                                    window.PLOTLYENV=window.PLOTLYENV || {};                                    if (document.getElementById(\"87083cb3-ffbe-4e66-83e9-4caf2e9b6cff\")) {                    Plotly.newPlot(                        \"87083cb3-ffbe-4e66-83e9-4caf2e9b6cff\",                        [{\"close\":[16018.11],\"high\":[16021.59],\"low\":[16016.96],\"open\":[16018.22],\"type\":\"candlestick\"}],                        {\"template\":{\"data\":{\"histogram2dcontour\":[{\"type\":\"histogram2dcontour\",\"colorbar\":{\"outlinewidth\":0,\"ticks\":\"\"},\"colorscale\":[[0.0,\"#0d0887\"],[0.1111111111111111,\"#46039f\"],[0.2222222222222222,\"#7201a8\"],[0.3333333333333333,\"#9c179e\"],[0.4444444444444444,\"#bd3786\"],[0.5555555555555556,\"#d8576b\"],[0.6666666666666666,\"#ed7953\"],[0.7777777777777778,\"#fb9f3a\"],[0.8888888888888888,\"#fdca26\"],[1.0,\"#f0f921\"]]}],\"choropleth\":[{\"type\":\"choropleth\",\"colorbar\":{\"outlinewidth\":0,\"ticks\":\"\"}}],\"histogram2d\":[{\"type\":\"histogram2d\",\"colorbar\":{\"outlinewidth\":0,\"ticks\":\"\"},\"colorscale\":[[0.0,\"#0d0887\"],[0.1111111111111111,\"#46039f\"],[0.2222222222222222,\"#7201a8\"],[0.3333333333333333,\"#9c179e\"],[0.4444444444444444,\"#bd3786\"],[0.5555555555555556,\"#d8576b\"],[0.6666666666666666,\"#ed7953\"],[0.7777777777777778,\"#fb9f3a\"],[0.8888888888888888,\"#fdca26\"],[1.0,\"#f0f921\"]]}],\"heatmap\":[{\"type\":\"heatmap\",\"colorbar\":{\"outlinewidth\":0,\"ticks\":\"\"},\"colorscale\":[[0.0,\"#0d0887\"],[0.1111111111111111,\"#46039f\"],[0.2222222222222222,\"#7201a8\"],[0.3333333333333333,\"#9c179e\"],[0.4444444444444444,\"#bd3786\"],[0.5555555555555556,\"#d8576b\"],[0.6666666666666666,\"#ed7953\"],[0.7777777777777778,\"#fb9f3a\"],[0.8888888888888888,\"#fdca26\"],[1.0,\"#f0f921\"]]}],\"heatmapgl\":[{\"type\":\"heatmapgl\",\"colorbar\":{\"outlinewidth\":0,\"ticks\":\"\"},\"colorscale\":[[0.0,\"#0d0887\"],[0.1111111111111111,\"#46039f\"],[0.2222222222222222,\"#7201a8\"],[0.3333333333333333,\"#9c179e\"],[0.4444444444444444,\"#bd3786\"],[0.5555555555555556,\"#d8576b\"],[0.6666666666666666,\"#ed7953\"],[0.7777777777777778,\"#fb9f3a\"],[0.8888888888888888,\"#fdca26\"],[1.0,\"#f0f921\"]]}],\"contourcarpet\":[{\"type\":\"contourcarpet\",\"colorbar\":{\"outlinewidth\":0,\"ticks\":\"\"}}],\"contour\":[{\"type\":\"contour\",\"colorbar\":{\"outlinewidth\":0,\"ticks\":\"\"},\"colorscale\":[[0.0,\"#0d0887\"],[0.1111111111111111,\"#46039f\"],[0.2222222222222222,\"#7201a8\"],[0.3333333333333333,\"#9c179e\"],[0.4444444444444444,\"#bd3786\"],[0.5555555555555556,\"#d8576b\"],[0.6666666666666666,\"#ed7953\"],[0.7777777777777778,\"#fb9f3a\"],[0.8888888888888888,\"#fdca26\"],[1.0,\"#f0f921\"]]}],\"surface\":[{\"type\":\"surface\",\"colorbar\":{\"outlinewidth\":0,\"ticks\":\"\"},\"colorscale\":[[0.0,\"#0d0887\"],[0.1111111111111111,\"#46039f\"],[0.2222222222222222,\"#7201a8\"],[0.3333333333333333,\"#9c179e\"],[0.4444444444444444,\"#bd3786\"],[0.5555555555555556,\"#d8576b\"],[0.6666666666666666,\"#ed7953\"],[0.7777777777777778,\"#fb9f3a\"],[0.8888888888888888,\"#fdca26\"],[1.0,\"#f0f921\"]]}],\"mesh3d\":[{\"type\":\"mesh3d\",\"colorbar\":{\"outlinewidth\":0,\"ticks\":\"\"}}],\"scatter\":[{\"fillpattern\":{\"fillmode\":\"overlay\",\"size\":10,\"solidity\":0.2},\"type\":\"scatter\"}],\"parcoords\":[{\"type\":\"parcoords\",\"line\":{\"colorbar\":{\"outlinewidth\":0,\"ticks\":\"\"}}}],\"scatterpolargl\":[{\"type\":\"scatterpolargl\",\"marker\":{\"colorbar\":{\"outlinewidth\":0,\"ticks\":\"\"}}}],\"bar\":[{\"error_x\":{\"color\":\"#2a3f5f\"},\"error_y\":{\"color\":\"#2a3f5f\"},\"marker\":{\"line\":{\"color\":\"#E5ECF6\",\"width\":0.5},\"pattern\":{\"fillmode\":\"overlay\",\"size\":10,\"solidity\":0.2}},\"type\":\"bar\"}],\"scattergeo\":[{\"type\":\"scattergeo\",\"marker\":{\"colorbar\":{\"outlinewidth\":0,\"ticks\":\"\"}}}],\"scatterpolar\":[{\"type\":\"scatterpolar\",\"marker\":{\"colorbar\":{\"outlinewidth\":0,\"ticks\":\"\"}}}],\"histogram\":[{\"marker\":{\"pattern\":{\"fillmode\":\"overlay\",\"size\":10,\"solidity\":0.2}},\"type\":\"histogram\"}],\"scattergl\":[{\"type\":\"scattergl\",\"marker\":{\"colorbar\":{\"outlinewidth\":0,\"ticks\":\"\"}}}],\"scatter3d\":[{\"type\":\"scatter3d\",\"line\":{\"colorbar\":{\"outlinewidth\":0,\"ticks\":\"\"}},\"marker\":{\"colorbar\":{\"outlinewidth\":0,\"ticks\":\"\"}}}],\"scattermapbox\":[{\"type\":\"scattermapbox\",\"marker\":{\"colorbar\":{\"outlinewidth\":0,\"ticks\":\"\"}}}],\"scatterternary\":[{\"type\":\"scatterternary\",\"marker\":{\"colorbar\":{\"outlinewidth\":0,\"ticks\":\"\"}}}],\"scattercarpet\":[{\"type\":\"scattercarpet\",\"marker\":{\"colorbar\":{\"outlinewidth\":0,\"ticks\":\"\"}}}],\"carpet\":[{\"aaxis\":{\"endlinecolor\":\"#2a3f5f\",\"gridcolor\":\"white\",\"linecolor\":\"white\",\"minorgridcolor\":\"white\",\"startlinecolor\":\"#2a3f5f\"},\"baxis\":{\"endlinecolor\":\"#2a3f5f\",\"gridcolor\":\"white\",\"linecolor\":\"white\",\"minorgridcolor\":\"white\",\"startlinecolor\":\"#2a3f5f\"},\"type\":\"carpet\"}],\"table\":[{\"cells\":{\"fill\":{\"color\":\"#EBF0F8\"},\"line\":{\"color\":\"white\"}},\"header\":{\"fill\":{\"color\":\"#C8D4E3\"},\"line\":{\"color\":\"white\"}},\"type\":\"table\"}],\"barpolar\":[{\"marker\":{\"line\":{\"color\":\"#E5ECF6\",\"width\":0.5},\"pattern\":{\"fillmode\":\"overlay\",\"size\":10,\"solidity\":0.2}},\"type\":\"barpolar\"}],\"pie\":[{\"automargin\":true,\"type\":\"pie\"}]},\"layout\":{\"autotypenumbers\":\"strict\",\"colorway\":[\"#636efa\",\"#EF553B\",\"#00cc96\",\"#ab63fa\",\"#FFA15A\",\"#19d3f3\",\"#FF6692\",\"#B6E880\",\"#FF97FF\",\"#FECB52\"],\"font\":{\"color\":\"#2a3f5f\"},\"hovermode\":\"closest\",\"hoverlabel\":{\"align\":\"left\"},\"paper_bgcolor\":\"white\",\"plot_bgcolor\":\"#E5ECF6\",\"polar\":{\"bgcolor\":\"#E5ECF6\",\"angularaxis\":{\"gridcolor\":\"white\",\"linecolor\":\"white\",\"ticks\":\"\"},\"radialaxis\":{\"gridcolor\":\"white\",\"linecolor\":\"white\",\"ticks\":\"\"}},\"ternary\":{\"bgcolor\":\"#E5ECF6\",\"aaxis\":{\"gridcolor\":\"white\",\"linecolor\":\"white\",\"ticks\":\"\"},\"baxis\":{\"gridcolor\":\"white\",\"linecolor\":\"white\",\"ticks\":\"\"},\"caxis\":{\"gridcolor\":\"white\",\"linecolor\":\"white\",\"ticks\":\"\"}},\"coloraxis\":{\"colorbar\":{\"outlinewidth\":0,\"ticks\":\"\"}},\"colorscale\":{\"sequential\":[[0.0,\"#0d0887\"],[0.1111111111111111,\"#46039f\"],[0.2222222222222222,\"#7201a8\"],[0.3333333333333333,\"#9c179e\"],[0.4444444444444444,\"#bd3786\"],[0.5555555555555556,\"#d8576b\"],[0.6666666666666666,\"#ed7953\"],[0.7777777777777778,\"#fb9f3a\"],[0.8888888888888888,\"#fdca26\"],[1.0,\"#f0f921\"]],\"sequentialminus\":[[0.0,\"#0d0887\"],[0.1111111111111111,\"#46039f\"],[0.2222222222222222,\"#7201a8\"],[0.3333333333333333,\"#9c179e\"],[0.4444444444444444,\"#bd3786\"],[0.5555555555555556,\"#d8576b\"],[0.6666666666666666,\"#ed7953\"],[0.7777777777777778,\"#fb9f3a\"],[0.8888888888888888,\"#fdca26\"],[1.0,\"#f0f921\"]],\"diverging\":[[0,\"#8e0152\"],[0.1,\"#c51b7d\"],[0.2,\"#de77ae\"],[0.3,\"#f1b6da\"],[0.4,\"#fde0ef\"],[0.5,\"#f7f7f7\"],[0.6,\"#e6f5d0\"],[0.7,\"#b8e186\"],[0.8,\"#7fbc41\"],[0.9,\"#4d9221\"],[1,\"#276419\"]]},\"xaxis\":{\"gridcolor\":\"white\",\"linecolor\":\"white\",\"ticks\":\"\",\"title\":{\"standoff\":15},\"zerolinecolor\":\"white\",\"automargin\":true,\"zerolinewidth\":2},\"yaxis\":{\"gridcolor\":\"white\",\"linecolor\":\"white\",\"ticks\":\"\",\"title\":{\"standoff\":15},\"zerolinecolor\":\"white\",\"automargin\":true,\"zerolinewidth\":2},\"scene\":{\"xaxis\":{\"backgroundcolor\":\"#E5ECF6\",\"gridcolor\":\"white\",\"linecolor\":\"white\",\"showbackground\":true,\"ticks\":\"\",\"zerolinecolor\":\"white\",\"gridwidth\":2},\"yaxis\":{\"backgroundcolor\":\"#E5ECF6\",\"gridcolor\":\"white\",\"linecolor\":\"white\",\"showbackground\":true,\"ticks\":\"\",\"zerolinecolor\":\"white\",\"gridwidth\":2},\"zaxis\":{\"backgroundcolor\":\"#E5ECF6\",\"gridcolor\":\"white\",\"linecolor\":\"white\",\"showbackground\":true,\"ticks\":\"\",\"zerolinecolor\":\"white\",\"gridwidth\":2}},\"shapedefaults\":{\"line\":{\"color\":\"#2a3f5f\"}},\"annotationdefaults\":{\"arrowcolor\":\"#2a3f5f\",\"arrowhead\":0,\"arrowwidth\":1},\"geo\":{\"bgcolor\":\"white\",\"landcolor\":\"#E5ECF6\",\"subunitcolor\":\"white\",\"showland\":true,\"showlakes\":true,\"lakecolor\":\"white\"},\"title\":{\"x\":0.05},\"mapbox\":{\"style\":\"light\"}}},\"xaxis\":{\"rangeslider\":{\"visible\":false},\"title\":{\"text\":\"\\u015awieca M5\"},\"type\":\"category\"},\"yaxis\":{\"title\":{\"text\":\"Cena\"},\"tickformat\":\".2f\"},\"title\":{\"text\":\"Wykres Prognozowanej \\u015awiecy M5 US100\"}},                        {\"responsive\": true}                    ).then(function(){\n",
              "                            \n",
              "var gd = document.getElementById('87083cb3-ffbe-4e66-83e9-4caf2e9b6cff');\n",
              "var x = new MutationObserver(function (mutations, observer) {{\n",
              "        var display = window.getComputedStyle(gd).display;\n",
              "        if (!display || display === 'none') {{\n",
              "            console.log([gd, 'removed!']);\n",
              "            Plotly.purge(gd);\n",
              "            observer.disconnect();\n",
              "        }}\n",
              "}});\n",
              "\n",
              "// Listen for the removal of the full notebook cells\n",
              "var notebookContainer = gd.closest('#notebook-container');\n",
              "if (notebookContainer) {{\n",
              "    x.observe(notebookContainer, {childList: true});\n",
              "}}\n",
              "\n",
              "// Listen for the clearing of the current output cell\n",
              "var outputEl = gd.closest('.output');\n",
              "if (outputEl) {{\n",
              "    x.observe(outputEl, {childList: true});\n",
              "}}\n",
              "\n",
              "                        })                };                            </script>        </div>\n",
              "</body>\n",
              "</html>"
            ]
          },
          "metadata": {}
        }
      ],
      "source": [
        "# Stworzenie DataFrame z jedną świecą\n",
        "df_predicted = pd.DataFrame([predicted])\n",
        "\n",
        "fig = go.Figure(data=[go.Candlestick(\n",
        "                open=df_predicted['Open'],\n",
        "                high=df_predicted['High'],\n",
        "                low=df_predicted['Low'],\n",
        "                close=df_predicted['Close'])])\n",
        "\n",
        "fig.update_layout(\n",
        "    title='Wykres Prognozowanej Świecy M5 US100',\n",
        "    xaxis_title='Świeca M5',\n",
        "    yaxis_title='Cena',\n",
        "    xaxis_rangeslider_visible=False,\n",
        "    yaxis=dict(\n",
        "        tickformat=\".2f\"\n",
        "    ),\n",
        "    xaxis=dict(\n",
        "        type='category'\n",
        "    )\n",
        ")\n",
        "\n",
        "fig.show()\n"
      ]
    }
  ],
  "metadata": {
    "colab": {
      "provenance": [],
      "toc_visible": true,
      "mount_file_id": "1vpJqfTVZ4-19Et4smAYlT9AnIPp0h9hu",
      "authorship_tag": "ABX9TyMBEyIsgkbK2PGwZLtvD3tA",
      "include_colab_link": true
    },
    "kernelspec": {
      "display_name": "Python 3",
      "name": "python3"
    },
    "language_info": {
      "name": "python"
    }
  },
  "nbformat": 4,
  "nbformat_minor": 0
}