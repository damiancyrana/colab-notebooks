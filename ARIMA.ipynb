{
  "cells": [
    {
      "cell_type": "markdown",
      "metadata": {
        "id": "view-in-github",
        "colab_type": "text"
      },
      "source": [
        "<a href=\"https://colab.research.google.com/github/damiancyrana/colab-notebooks/blob/main/ARIMA.ipynb\" target=\"_parent\"><img src=\"https://colab.research.google.com/assets/colab-badge.svg\" alt=\"Open In Colab\"/></a>"
      ]
    },
    {
      "cell_type": "code",
      "execution_count": null,
      "metadata": {
        "id": "rD7PLo6_4Z02"
      },
      "outputs": [],
      "source": [
        "!pip install pandas statsmodels matplotlib pmdarima\n",
        "import pandas as pd\n",
        "import matplotlib.pyplot as plt\n",
        "import plotly.graph_objects as go\n",
        "import pmdarima as pm\n",
        "import pickle\n",
        "import os\n",
        "from pmdarima import auto_arima\n",
        "from statsmodels.tsa.arima.model import ARIMA\n",
        "from datetime import datetime\n",
        "import pytz\n",
        "import re\n",
        "from statsmodels.tsa.statespace.sarimax import SARIMAX\n",
        "\n"
      ]
    },
    {
      "cell_type": "code",
      "execution_count": 4,
      "metadata": {
        "id": "E0lWl3BFCTK0"
      },
      "outputs": [],
      "source": [
        "# Ładowanie danych\n",
        "url = '/content/drive/MyDrive/Colab Notebooks/US100_M5.csv'\n",
        "data = pd.read_csv(url)\n",
        "\n",
        "# Konwersja kolumny 'ctmString' na typ datetime i ustawienie jako indeks\n",
        "data['ctmString'] = pd.to_datetime(data['ctmString'])\n",
        "data.set_index('ctmString', inplace=True)\n",
        "\n",
        "# Dodanie kolumny z dniem tygodnia\n",
        "data['day_of_week'] = data.index.dayofweek\n",
        "\n",
        "# Usunięcie weekendów (sobota = 5, niedziela = 6) i niepotrzebnych kolumn\n",
        "data = data[~data['day_of_week'].isin([5, 6])]\n",
        "data.drop(['Unnamed: 0', 'day_of_week'], axis=1, inplace=True)\n",
        "\n",
        "# Sortowanie danych\n",
        "data.sort_values('ctmString', inplace=True)\n",
        "data.dropna(subset=['open', 'close', 'high', 'low', 'vol'], inplace=True)"
      ]
    },
    {
      "cell_type": "markdown",
      "metadata": {
        "id": "gGxfjRA01Lka"
      },
      "source": [
        "**Funkcja do prognozowania z automatycznym doborem parametrów ARIMA**"
      ]
    },
    {
      "cell_type": "code",
      "execution_count": null,
      "metadata": {
        "id": "6i2NrHcOe4pR"
      },
      "outputs": [],
      "source": [
        "def auto_arima_forecast(feature_name):\n",
        "    \"\"\"\n",
        "    Funkcja do prognozowania z automatycznym doborem parametrów ARIMA\n",
        "    \"\"\"\n",
        "    auto_model = auto_arima(data[feature_name], seasonal=False, m=0,\n",
        "                            stepwise=True, suppress_warnings=True,\n",
        "                            error_action='ignore', trace=True,\n",
        "                            max_order=None)\n",
        "\n",
        "    # Użycie dobrych parametrów do stworzenia modelu ARIMA\n",
        "    model = ARIMA(data[feature_name], order=auto_model.order)\n",
        "    model_fit = model.fit()\n",
        "\n",
        "    # Prognozowanie następnej wartości\n",
        "    forecast = model_fit.forecast(steps=1)\n",
        "    return forecast.iloc[0]\n",
        "\n",
        "# Przeprowadzenie prognozowania dla każdej cechy\n",
        "forecast_open = round(auto_arima_forecast('open'), 2)\n",
        "forecast_close = round(auto_arima_forecast('close'), 2)\n",
        "forecast_high = round(auto_arima_forecast('high'), 2)\n",
        "forecast_low = round(auto_arima_forecast('low'), 2)\n",
        "\n",
        "# Wyświetlenie zaokrąglonych prognoz\n",
        "print(\"Prognozowane wartości dla kolejnej świecy M5 (zaokrąglone):\")\n",
        "print(f\"Open: {forecast_open}\")\n",
        "print(f\"Close: {forecast_close}\")\n",
        "print(f\"High: {forecast_high}\")\n",
        "print(f\"Low: {forecast_low}\")\n"
      ]
    },
    {
      "cell_type": "code",
      "source": [
        "def sarimax_forecast(feature_name):\n",
        "    \"\"\"\n",
        "    Funkcja do prognozowania z automatycznym doborem parametrów SARIMAX\n",
        "    \"\"\"\n",
        "    # Auto ARIMA do znalezienia najlepszego zestawu parametrów\n",
        "    auto_model = auto_arima(data[feature_name], exogenous=data[['vol']],\n",
        "                            seasonal=False, m=0,  # m to liczba okresów w sezonie\n",
        "                            stepwise=True, suppress_warnings=True,\n",
        "                            error_action='ignore', trace=True)\n",
        "\n",
        "    # Budowanie modelu SARIMAX z najlepszymi parametrami\n",
        "    model = SARIMAX(data[feature_name], exog=data['vol'],\n",
        "                    order=auto_model.order, seasonal_order=auto_model.seasonal_order)\n",
        "    model_fit = model.fit(disp=False)\n",
        "\n",
        "    # Prognozowanie następnej wartości\n",
        "    forecast = model_fit.forecast(steps=1, exog=data['vol'].iloc[-1])\n",
        "    return forecast.iloc[0]\n",
        "\n",
        "# Przeprowadzenie prognozowania dla każdej cechy\n",
        "forecast_open = round(sarimax_forecast('open'), 2)\n",
        "forecast_close = round(sarimax_forecast('close'), 2)\n",
        "forecast_high = round(sarimax_forecast('high'), 2)\n",
        "forecast_low = round(sarimax_forecast('low'), 2)\n",
        "\n",
        "# Wyświetlenie zaokrąglonych prognoz\n",
        "print(\"Prognozowane wartości dla kolejnej świecy M5 (zaokrąglone):\")\n",
        "print(f\"Open: {forecast_open}\")\n",
        "print(f\"Close: {forecast_close}\")\n",
        "print(f\"High: {forecast_high}\")\n",
        "print(f\"Low: {forecast_low}\")"
      ],
      "metadata": {
        "id": "iQ-9wQp4UUfy"
      },
      "execution_count": null,
      "outputs": []
    },
    {
      "cell_type": "markdown",
      "source": [
        "SARIMAX  Skuteczność modelu: 99.99655093973188 %\n",
        "\n",
        "Open: 16018.22\n",
        "Close: 16018.11\n",
        "High: 16020.31\n",
        "Low: 16017.02"
      ],
      "metadata": {
        "id": "Fv1lvK4mgp1J"
      }
    },
    {
      "cell_type": "code",
      "source": [
        "def sarimax_forecast(feature_name):\n",
        "    \"\"\"\n",
        "    Funkcja do prognozowania z zastosowaniem modelu SARIMAX z zadanymi parametrami.\n",
        "    \"\"\"\n",
        "    # Zdefiniowane parametry ARIMA(2,1,1)\n",
        "    order = (2, 1, 1)\n",
        "    seasonal_order = (0, 0, 0, 0)  # Brak sezonowości\n",
        "\n",
        "    # Budowanie modelu SARIMAX z zadanymi parametrami\n",
        "    model = SARIMAX(data[feature_name], exog=data['vol'], order=order, seasonal_order=seasonal_order)\n",
        "    model_fit = model.fit(disp=False)\n",
        "\n",
        "    # Prognozowanie następnej wartości\n",
        "    forecast = model_fit.forecast(steps=1, exog=data['vol'].iloc[-1])\n",
        "    return forecast.iloc[0]\n",
        "\n",
        "# Przeprowadzenie prognozowania dla każdej cechy\n",
        "forecast_open = round(sarimax_forecast('open'), 2)\n",
        "forecast_close = round(sarimax_forecast('close'), 2)\n",
        "forecast_high = round(sarimax_forecast('high'), 2)\n",
        "forecast_low = round(sarimax_forecast('low'), 2)\n",
        "\n",
        "# Wyświetlenie zaokrąglonych prognoz\n",
        "print(\"Prognozowane wartości dla kolejnej świecy M5 (zaokrąglone):\")\n",
        "print(f\"Open: {forecast_open}\")\n",
        "print(f\"Close: {forecast_close}\")\n",
        "print(f\"High: {forecast_high}\")\n",
        "print(f\"Low: {forecast_low}\")\n"
      ],
      "metadata": {
        "colab": {
          "base_uri": "https://localhost:8080/"
        },
        "id": "d6WsxttRlqQv",
        "outputId": "faea92f6-6ee6-4936-e333-fce100bc23f3"
      },
      "execution_count": 5,
      "outputs": [
        {
          "output_type": "stream",
          "name": "stderr",
          "text": [
            "/usr/local/lib/python3.10/dist-packages/statsmodels/tsa/base/tsa_model.py:473: ValueWarning: A date index has been provided, but it has no associated frequency information and so will be ignored when e.g. forecasting.\n",
            "  self._init_dates(dates, freq)\n",
            "/usr/local/lib/python3.10/dist-packages/statsmodels/tsa/base/tsa_model.py:473: ValueWarning: A date index has been provided, but it has no associated frequency information and so will be ignored when e.g. forecasting.\n",
            "  self._init_dates(dates, freq)\n",
            "/usr/local/lib/python3.10/dist-packages/statsmodels/tsa/base/tsa_model.py:836: ValueWarning: No supported index is available. Prediction results will be given with an integer index beginning at `start`.\n",
            "  return get_prediction_index(\n",
            "/usr/local/lib/python3.10/dist-packages/statsmodels/tsa/base/tsa_model.py:836: FutureWarning: No supported index is available. In the next version, calling this method in a model without a supported index will result in an exception.\n",
            "  return get_prediction_index(\n",
            "/usr/local/lib/python3.10/dist-packages/statsmodels/tsa/base/tsa_model.py:473: ValueWarning: A date index has been provided, but it has no associated frequency information and so will be ignored when e.g. forecasting.\n",
            "  self._init_dates(dates, freq)\n",
            "/usr/local/lib/python3.10/dist-packages/statsmodels/tsa/base/tsa_model.py:473: ValueWarning: A date index has been provided, but it has no associated frequency information and so will be ignored when e.g. forecasting.\n",
            "  self._init_dates(dates, freq)\n",
            "/usr/local/lib/python3.10/dist-packages/statsmodels/tsa/base/tsa_model.py:836: ValueWarning: No supported index is available. Prediction results will be given with an integer index beginning at `start`.\n",
            "  return get_prediction_index(\n",
            "/usr/local/lib/python3.10/dist-packages/statsmodels/tsa/base/tsa_model.py:836: FutureWarning: No supported index is available. In the next version, calling this method in a model without a supported index will result in an exception.\n",
            "  return get_prediction_index(\n",
            "/usr/local/lib/python3.10/dist-packages/statsmodels/tsa/base/tsa_model.py:473: ValueWarning: A date index has been provided, but it has no associated frequency information and so will be ignored when e.g. forecasting.\n",
            "  self._init_dates(dates, freq)\n",
            "/usr/local/lib/python3.10/dist-packages/statsmodels/tsa/base/tsa_model.py:473: ValueWarning: A date index has been provided, but it has no associated frequency information and so will be ignored when e.g. forecasting.\n",
            "  self._init_dates(dates, freq)\n",
            "/usr/local/lib/python3.10/dist-packages/statsmodels/tsa/statespace/sarimax.py:966: UserWarning: Non-stationary starting autoregressive parameters found. Using zeros as starting parameters.\n",
            "  warn('Non-stationary starting autoregressive parameters'\n",
            "/usr/local/lib/python3.10/dist-packages/statsmodels/tsa/statespace/sarimax.py:978: UserWarning: Non-invertible starting MA parameters found. Using zeros as starting parameters.\n",
            "  warn('Non-invertible starting MA parameters found.'\n",
            "/usr/local/lib/python3.10/dist-packages/statsmodels/tsa/base/tsa_model.py:836: ValueWarning: No supported index is available. Prediction results will be given with an integer index beginning at `start`.\n",
            "  return get_prediction_index(\n",
            "/usr/local/lib/python3.10/dist-packages/statsmodels/tsa/base/tsa_model.py:836: FutureWarning: No supported index is available. In the next version, calling this method in a model without a supported index will result in an exception.\n",
            "  return get_prediction_index(\n",
            "/usr/local/lib/python3.10/dist-packages/statsmodels/tsa/base/tsa_model.py:473: ValueWarning: A date index has been provided, but it has no associated frequency information and so will be ignored when e.g. forecasting.\n",
            "  self._init_dates(dates, freq)\n",
            "/usr/local/lib/python3.10/dist-packages/statsmodels/tsa/base/tsa_model.py:473: ValueWarning: A date index has been provided, but it has no associated frequency information and so will be ignored when e.g. forecasting.\n",
            "  self._init_dates(dates, freq)\n"
          ]
        },
        {
          "output_type": "stream",
          "name": "stdout",
          "text": [
            "Prognozowane wartości dla kolejnej świecy M5 (zaokrąglone):\n",
            "Open: 16018.19\n",
            "Close: 16017.92\n",
            "High: 16021.59\n",
            "Low: 16016.96\n"
          ]
        },
        {
          "output_type": "stream",
          "name": "stderr",
          "text": [
            "/usr/local/lib/python3.10/dist-packages/statsmodels/tsa/base/tsa_model.py:836: ValueWarning: No supported index is available. Prediction results will be given with an integer index beginning at `start`.\n",
            "  return get_prediction_index(\n",
            "/usr/local/lib/python3.10/dist-packages/statsmodels/tsa/base/tsa_model.py:836: FutureWarning: No supported index is available. In the next version, calling this method in a model without a supported index will result in an exception.\n",
            "  return get_prediction_index(\n"
          ]
        }
      ]
    },
    {
      "cell_type": "code",
      "execution_count": 6,
      "metadata": {
        "colab": {
          "base_uri": "https://localhost:8080/"
        },
        "id": "vCueJFZ6Prc7",
        "outputId": "3708e2a3-92cb-43c7-cf18-021441545057"
      },
      "outputs": [
        {
          "output_type": "stream",
          "name": "stdout",
          "text": [
            "Skuteczność modelu: 99.9977057593497 %\n"
          ]
        }
      ],
      "source": [
        "# Prognozowane wartości\n",
        "predicted = {\n",
        "    \"Open\": forecast_open,\n",
        "    \"Close\": forecast_close,\n",
        "    \"High\": forecast_high,\n",
        "    \"Low\": forecast_low\n",
        "}\n",
        "\n",
        "# Rzeczywiste wartości (podane ręcznie)\n",
        "actual = {\n",
        "    \"Open\": 16017.37,\n",
        "    \"Close\": 16017.87,\n",
        "    \"High\": 16021.18,\n",
        "    \"Low\": 16016.77\n",
        "}\n",
        "\n",
        "# Obliczenie błędu procentowego dla każdej cechy\n",
        "percentage_errors = {}\n",
        "for key in predicted.keys():\n",
        "    error = abs(predicted[key] - actual[key]) / actual[key]\n",
        "    percentage_errors[key] = error * 100\n",
        "\n",
        "# Średni błąd procentowy\n",
        "average_error = sum(percentage_errors.values()) / len(percentage_errors)\n",
        "model_accuracy = 100 - average_error\n",
        "print(f\"Skuteczność modelu: {model_accuracy} %\")\n"
      ]
    },
    {
      "cell_type": "code",
      "execution_count": null,
      "metadata": {
        "id": "OYvBj6WsTDLl",
        "colab": {
          "base_uri": "https://localhost:8080/",
          "height": 542
        },
        "outputId": "e0fb737a-91a8-45e2-85ba-1d3a7672f848"
      },
      "outputs": [
        {
          "output_type": "display_data",
          "data": {
            "text/html": [
              "<html>\n",
              "<head><meta charset=\"utf-8\" /></head>\n",
              "<body>\n",
              "    <div>            <script src=\"https://cdnjs.cloudflare.com/ajax/libs/mathjax/2.7.5/MathJax.js?config=TeX-AMS-MML_SVG\"></script><script type=\"text/javascript\">if (window.MathJax && window.MathJax.Hub && window.MathJax.Hub.Config) {window.MathJax.Hub.Config({SVG: {font: \"STIX-Web\"}});}</script>                <script type=\"text/javascript\">window.PlotlyConfig = {MathJaxConfig: 'local'};</script>\n",
              "        <script charset=\"utf-8\" src=\"https://cdn.plot.ly/plotly-2.24.1.min.js\"></script>                <div id=\"87083cb3-ffbe-4e66-83e9-4caf2e9b6cff\" class=\"plotly-graph-div\" style=\"height:525px; width:100%;\"></div>            <script type=\"text/javascript\">                                    window.PLOTLYENV=window.PLOTLYENV || {};                                    if (document.getElementById(\"87083cb3-ffbe-4e66-83e9-4caf2e9b6cff\")) {                    Plotly.newPlot(                        \"87083cb3-ffbe-4e66-83e9-4caf2e9b6cff\",                        [{\"close\":[16018.11],\"high\":[16021.59],\"low\":[16016.96],\"open\":[16018.22],\"type\":\"candlestick\"}],                        {\"template\":{\"data\":{\"histogram2dcontour\":[{\"type\":\"histogram2dcontour\",\"colorbar\":{\"outlinewidth\":0,\"ticks\":\"\"},\"colorscale\":[[0.0,\"#0d0887\"],[0.1111111111111111,\"#46039f\"],[0.2222222222222222,\"#7201a8\"],[0.3333333333333333,\"#9c179e\"],[0.4444444444444444,\"#bd3786\"],[0.5555555555555556,\"#d8576b\"],[0.6666666666666666,\"#ed7953\"],[0.7777777777777778,\"#fb9f3a\"],[0.8888888888888888,\"#fdca26\"],[1.0,\"#f0f921\"]]}],\"choropleth\":[{\"type\":\"choropleth\",\"colorbar\":{\"outlinewidth\":0,\"ticks\":\"\"}}],\"histogram2d\":[{\"type\":\"histogram2d\",\"colorbar\":{\"outlinewidth\":0,\"ticks\":\"\"},\"colorscale\":[[0.0,\"#0d0887\"],[0.1111111111111111,\"#46039f\"],[0.2222222222222222,\"#7201a8\"],[0.3333333333333333,\"#9c179e\"],[0.4444444444444444,\"#bd3786\"],[0.5555555555555556,\"#d8576b\"],[0.6666666666666666,\"#ed7953\"],[0.7777777777777778,\"#fb9f3a\"],[0.8888888888888888,\"#fdca26\"],[1.0,\"#f0f921\"]]}],\"heatmap\":[{\"type\":\"heatmap\",\"colorbar\":{\"outlinewidth\":0,\"ticks\":\"\"},\"colorscale\":[[0.0,\"#0d0887\"],[0.1111111111111111,\"#46039f\"],[0.2222222222222222,\"#7201a8\"],[0.3333333333333333,\"#9c179e\"],[0.4444444444444444,\"#bd3786\"],[0.5555555555555556,\"#d8576b\"],[0.6666666666666666,\"#ed7953\"],[0.7777777777777778,\"#fb9f3a\"],[0.8888888888888888,\"#fdca26\"],[1.0,\"#f0f921\"]]}],\"heatmapgl\":[{\"type\":\"heatmapgl\",\"colorbar\":{\"outlinewidth\":0,\"ticks\":\"\"},\"colorscale\":[[0.0,\"#0d0887\"],[0.1111111111111111,\"#46039f\"],[0.2222222222222222,\"#7201a8\"],[0.3333333333333333,\"#9c179e\"],[0.4444444444444444,\"#bd3786\"],[0.5555555555555556,\"#d8576b\"],[0.6666666666666666,\"#ed7953\"],[0.7777777777777778,\"#fb9f3a\"],[0.8888888888888888,\"#fdca26\"],[1.0,\"#f0f921\"]]}],\"contourcarpet\":[{\"type\":\"contourcarpet\",\"colorbar\":{\"outlinewidth\":0,\"ticks\":\"\"}}],\"contour\":[{\"type\":\"contour\",\"colorbar\":{\"outlinewidth\":0,\"ticks\":\"\"},\"colorscale\":[[0.0,\"#0d0887\"],[0.1111111111111111,\"#46039f\"],[0.2222222222222222,\"#7201a8\"],[0.3333333333333333,\"#9c179e\"],[0.4444444444444444,\"#bd3786\"],[0.5555555555555556,\"#d8576b\"],[0.6666666666666666,\"#ed7953\"],[0.7777777777777778,\"#fb9f3a\"],[0.8888888888888888,\"#fdca26\"],[1.0,\"#f0f921\"]]}],\"surface\":[{\"type\":\"surface\",\"colorbar\":{\"outlinewidth\":0,\"ticks\":\"\"},\"colorscale\":[[0.0,\"#0d0887\"],[0.1111111111111111,\"#46039f\"],[0.2222222222222222,\"#7201a8\"],[0.3333333333333333,\"#9c179e\"],[0.4444444444444444,\"#bd3786\"],[0.5555555555555556,\"#d8576b\"],[0.6666666666666666,\"#ed7953\"],[0.7777777777777778,\"#fb9f3a\"],[0.8888888888888888,\"#fdca26\"],[1.0,\"#f0f921\"]]}],\"mesh3d\":[{\"type\":\"mesh3d\",\"colorbar\":{\"outlinewidth\":0,\"ticks\":\"\"}}],\"scatter\":[{\"fillpattern\":{\"fillmode\":\"overlay\",\"size\":10,\"solidity\":0.2},\"type\":\"scatter\"}],\"parcoords\":[{\"type\":\"parcoords\",\"line\":{\"colorbar\":{\"outlinewidth\":0,\"ticks\":\"\"}}}],\"scatterpolargl\":[{\"type\":\"scatterpolargl\",\"marker\":{\"colorbar\":{\"outlinewidth\":0,\"ticks\":\"\"}}}],\"bar\":[{\"error_x\":{\"color\":\"#2a3f5f\"},\"error_y\":{\"color\":\"#2a3f5f\"},\"marker\":{\"line\":{\"color\":\"#E5ECF6\",\"width\":0.5},\"pattern\":{\"fillmode\":\"overlay\",\"size\":10,\"solidity\":0.2}},\"type\":\"bar\"}],\"scattergeo\":[{\"type\":\"scattergeo\",\"marker\":{\"colorbar\":{\"outlinewidth\":0,\"ticks\":\"\"}}}],\"scatterpolar\":[{\"type\":\"scatterpolar\",\"marker\":{\"colorbar\":{\"outlinewidth\":0,\"ticks\":\"\"}}}],\"histogram\":[{\"marker\":{\"pattern\":{\"fillmode\":\"overlay\",\"size\":10,\"solidity\":0.2}},\"type\":\"histogram\"}],\"scattergl\":[{\"type\":\"scattergl\",\"marker\":{\"colorbar\":{\"outlinewidth\":0,\"ticks\":\"\"}}}],\"scatter3d\":[{\"type\":\"scatter3d\",\"line\":{\"colorbar\":{\"outlinewidth\":0,\"ticks\":\"\"}},\"marker\":{\"colorbar\":{\"outlinewidth\":0,\"ticks\":\"\"}}}],\"scattermapbox\":[{\"type\":\"scattermapbox\",\"marker\":{\"colorbar\":{\"outlinewidth\":0,\"ticks\":\"\"}}}],\"scatterternary\":[{\"type\":\"scatterternary\",\"marker\":{\"colorbar\":{\"outlinewidth\":0,\"ticks\":\"\"}}}],\"scattercarpet\":[{\"type\":\"scattercarpet\",\"marker\":{\"colorbar\":{\"outlinewidth\":0,\"ticks\":\"\"}}}],\"carpet\":[{\"aaxis\":{\"endlinecolor\":\"#2a3f5f\",\"gridcolor\":\"white\",\"linecolor\":\"white\",\"minorgridcolor\":\"white\",\"startlinecolor\":\"#2a3f5f\"},\"baxis\":{\"endlinecolor\":\"#2a3f5f\",\"gridcolor\":\"white\",\"linecolor\":\"white\",\"minorgridcolor\":\"white\",\"startlinecolor\":\"#2a3f5f\"},\"type\":\"carpet\"}],\"table\":[{\"cells\":{\"fill\":{\"color\":\"#EBF0F8\"},\"line\":{\"color\":\"white\"}},\"header\":{\"fill\":{\"color\":\"#C8D4E3\"},\"line\":{\"color\":\"white\"}},\"type\":\"table\"}],\"barpolar\":[{\"marker\":{\"line\":{\"color\":\"#E5ECF6\",\"width\":0.5},\"pattern\":{\"fillmode\":\"overlay\",\"size\":10,\"solidity\":0.2}},\"type\":\"barpolar\"}],\"pie\":[{\"automargin\":true,\"type\":\"pie\"}]},\"layout\":{\"autotypenumbers\":\"strict\",\"colorway\":[\"#636efa\",\"#EF553B\",\"#00cc96\",\"#ab63fa\",\"#FFA15A\",\"#19d3f3\",\"#FF6692\",\"#B6E880\",\"#FF97FF\",\"#FECB52\"],\"font\":{\"color\":\"#2a3f5f\"},\"hovermode\":\"closest\",\"hoverlabel\":{\"align\":\"left\"},\"paper_bgcolor\":\"white\",\"plot_bgcolor\":\"#E5ECF6\",\"polar\":{\"bgcolor\":\"#E5ECF6\",\"angularaxis\":{\"gridcolor\":\"white\",\"linecolor\":\"white\",\"ticks\":\"\"},\"radialaxis\":{\"gridcolor\":\"white\",\"linecolor\":\"white\",\"ticks\":\"\"}},\"ternary\":{\"bgcolor\":\"#E5ECF6\",\"aaxis\":{\"gridcolor\":\"white\",\"linecolor\":\"white\",\"ticks\":\"\"},\"baxis\":{\"gridcolor\":\"white\",\"linecolor\":\"white\",\"ticks\":\"\"},\"caxis\":{\"gridcolor\":\"white\",\"linecolor\":\"white\",\"ticks\":\"\"}},\"coloraxis\":{\"colorbar\":{\"outlinewidth\":0,\"ticks\":\"\"}},\"colorscale\":{\"sequential\":[[0.0,\"#0d0887\"],[0.1111111111111111,\"#46039f\"],[0.2222222222222222,\"#7201a8\"],[0.3333333333333333,\"#9c179e\"],[0.4444444444444444,\"#bd3786\"],[0.5555555555555556,\"#d8576b\"],[0.6666666666666666,\"#ed7953\"],[0.7777777777777778,\"#fb9f3a\"],[0.8888888888888888,\"#fdca26\"],[1.0,\"#f0f921\"]],\"sequentialminus\":[[0.0,\"#0d0887\"],[0.1111111111111111,\"#46039f\"],[0.2222222222222222,\"#7201a8\"],[0.3333333333333333,\"#9c179e\"],[0.4444444444444444,\"#bd3786\"],[0.5555555555555556,\"#d8576b\"],[0.6666666666666666,\"#ed7953\"],[0.7777777777777778,\"#fb9f3a\"],[0.8888888888888888,\"#fdca26\"],[1.0,\"#f0f921\"]],\"diverging\":[[0,\"#8e0152\"],[0.1,\"#c51b7d\"],[0.2,\"#de77ae\"],[0.3,\"#f1b6da\"],[0.4,\"#fde0ef\"],[0.5,\"#f7f7f7\"],[0.6,\"#e6f5d0\"],[0.7,\"#b8e186\"],[0.8,\"#7fbc41\"],[0.9,\"#4d9221\"],[1,\"#276419\"]]},\"xaxis\":{\"gridcolor\":\"white\",\"linecolor\":\"white\",\"ticks\":\"\",\"title\":{\"standoff\":15},\"zerolinecolor\":\"white\",\"automargin\":true,\"zerolinewidth\":2},\"yaxis\":{\"gridcolor\":\"white\",\"linecolor\":\"white\",\"ticks\":\"\",\"title\":{\"standoff\":15},\"zerolinecolor\":\"white\",\"automargin\":true,\"zerolinewidth\":2},\"scene\":{\"xaxis\":{\"backgroundcolor\":\"#E5ECF6\",\"gridcolor\":\"white\",\"linecolor\":\"white\",\"showbackground\":true,\"ticks\":\"\",\"zerolinecolor\":\"white\",\"gridwidth\":2},\"yaxis\":{\"backgroundcolor\":\"#E5ECF6\",\"gridcolor\":\"white\",\"linecolor\":\"white\",\"showbackground\":true,\"ticks\":\"\",\"zerolinecolor\":\"white\",\"gridwidth\":2},\"zaxis\":{\"backgroundcolor\":\"#E5ECF6\",\"gridcolor\":\"white\",\"linecolor\":\"white\",\"showbackground\":true,\"ticks\":\"\",\"zerolinecolor\":\"white\",\"gridwidth\":2}},\"shapedefaults\":{\"line\":{\"color\":\"#2a3f5f\"}},\"annotationdefaults\":{\"arrowcolor\":\"#2a3f5f\",\"arrowhead\":0,\"arrowwidth\":1},\"geo\":{\"bgcolor\":\"white\",\"landcolor\":\"#E5ECF6\",\"subunitcolor\":\"white\",\"showland\":true,\"showlakes\":true,\"lakecolor\":\"white\"},\"title\":{\"x\":0.05},\"mapbox\":{\"style\":\"light\"}}},\"xaxis\":{\"rangeslider\":{\"visible\":false},\"title\":{\"text\":\"\\u015awieca M5\"},\"type\":\"category\"},\"yaxis\":{\"title\":{\"text\":\"Cena\"},\"tickformat\":\".2f\"},\"title\":{\"text\":\"Wykres Prognozowanej \\u015awiecy M5 US100\"}},                        {\"responsive\": true}                    ).then(function(){\n",
              "                            \n",
              "var gd = document.getElementById('87083cb3-ffbe-4e66-83e9-4caf2e9b6cff');\n",
              "var x = new MutationObserver(function (mutations, observer) {{\n",
              "        var display = window.getComputedStyle(gd).display;\n",
              "        if (!display || display === 'none') {{\n",
              "            console.log([gd, 'removed!']);\n",
              "            Plotly.purge(gd);\n",
              "            observer.disconnect();\n",
              "        }}\n",
              "}});\n",
              "\n",
              "// Listen for the removal of the full notebook cells\n",
              "var notebookContainer = gd.closest('#notebook-container');\n",
              "if (notebookContainer) {{\n",
              "    x.observe(notebookContainer, {childList: true});\n",
              "}}\n",
              "\n",
              "// Listen for the clearing of the current output cell\n",
              "var outputEl = gd.closest('.output');\n",
              "if (outputEl) {{\n",
              "    x.observe(outputEl, {childList: true});\n",
              "}}\n",
              "\n",
              "                        })                };                            </script>        </div>\n",
              "</body>\n",
              "</html>"
            ]
          },
          "metadata": {}
        }
      ],
      "source": [
        "# Stworzenie DataFrame z jedną świecą\n",
        "df_predicted = pd.DataFrame([predicted])\n",
        "\n",
        "fig = go.Figure(data=[go.Candlestick(\n",
        "                open=df_predicted['Open'],\n",
        "                high=df_predicted['High'],\n",
        "                low=df_predicted['Low'],\n",
        "                close=df_predicted['Close'])])\n",
        "\n",
        "fig.update_layout(\n",
        "    title='Wykres Prognozowanej Świecy M5 US100',\n",
        "    xaxis_title='Świeca M5',\n",
        "    yaxis_title='Cena',\n",
        "    xaxis_rangeslider_visible=False,\n",
        "    yaxis=dict(\n",
        "        tickformat=\".2f\"\n",
        "    ),\n",
        "    xaxis=dict(\n",
        "        type='category'\n",
        "    )\n",
        ")\n",
        "\n",
        "fig.show()\n"
      ]
    }
  ],
  "metadata": {
    "colab": {
      "provenance": [],
      "mount_file_id": "https://github.com/damiancyrana/colab-notebooks/blob/main/ARIMA.ipynb",
      "authorship_tag": "ABX9TyOlW8MZT7BdUofdeYCv16nG",
      "include_colab_link": true
    },
    "kernelspec": {
      "display_name": "Python 3",
      "name": "python3"
    },
    "language_info": {
      "name": "python"
    }
  },
  "nbformat": 4,
  "nbformat_minor": 0
}